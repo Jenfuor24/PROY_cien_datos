{
 "cells": [
  {
   "cell_type": "markdown",
   "id": "ba4e1146",
   "metadata": {},
   "source": [
    "# Proyecto Venta de Casas en King County, USA\n",
    "\n",
    "id - Unique ID for each home sold\n",
    "\n",
    "date - Date of the home sale\n",
    "\n",
    "price - Price of each home sold\n",
    "\n",
    "bedrooms - Number of bedrooms\n",
    "\n",
    "bathrooms - Number of bathrooms, where .5 accounts for a room with a toilet but no shower\n",
    "\n",
    "sqft_living - Square footage of the apartments interior living space\n",
    "\n",
    "sqft_lot - Square footage of the land space\n",
    "\n",
    "floors - Number of floors\n",
    "\n",
    "waterfront - A dummy variable for whether the apartment was overlooking the waterfront or not\n",
    "\n",
    "view - An index from 0 to 4 of how good the view of the property was\n",
    "\n",
    "condition - An index from 1 to 5 on the condition of the apartment,\n",
    "\n",
    "grade - An index from 1 to 13, where 1-3 falls short of building construction and design, 7 has an average level of construction and design, and 11-13 have a high quality level of construction and design.\n",
    "\n",
    "sqft_above - The square footage of the interior housing space that is above ground level\n",
    "\n",
    "sqft_basement - The square footage of the interior housing space that is below ground level\n",
    "\n",
    "yr_built - The year the house was initially built\n",
    "\n",
    "yr_renovated - The year of the house’s last renovation\n",
    "\n",
    "zipcode - What zipcode area the house is in\n",
    "\n",
    "lat - Lattitude\n",
    "\n",
    "long - Longitude\n",
    "\n",
    "sqft_living15 - The square footage of interior housing living space for the nearest 15 neighbors\n",
    "\n",
    "sqft_lot15 - The square footage of the land lots of the nearest 15 neighbors\n"
   ]
  },
  {
   "cell_type": "markdown",
   "id": "6be3002e",
   "metadata": {},
   "source": [
    "## Preguntas del CEO\n",
    "\n",
    "A partir de estos datos, hay que contestar las siguientes preguntas.\n",
    "\n",
    "1.¿Cuántas casas hay disponibles para comprar?\n",
    "\n",
    "2.¿Cuántos atributos tienen las casas?\n",
    "\n",
    "3.¿Cuáles son los atributos de las casas?\n",
    "\n",
    "4.¿Cuál es la casa más cara (casa con mayor valor de venta)?\n",
    "\n",
    "5.¿Qué casa tiene más cuartos?\n",
    "\n",
    "6.¿Cuál es la suma total de trimestres en el conjunto de datos?\n",
    "\n",
    "7.¿Cuántas casas tienen 2 baños?\n",
    "\n",
    "8.¿Cuál es el precio promedio de todas las casas en el conjunto de datos?\n",
    "\n",
    "9.¿Cuál es el precio medio de las viviendas de 2 baños?\n",
    "\n",
    "10.¿Cuál es el precio mínimo para viviendas de 3 dormitorios?\n",
    "\n",
    "11.¿Cuántas casas tienen más de 300 metros cuadrados en la sala?\n",
    "\n",
    "12.¿Cuántas casas tienen más de 2 plantas?\n",
    "\n",
    "13.¿Cuántas casas tienen vista al mar?\n",
    "\n",
    "14.De las casas con vistas al mar, ¿cuántas tienen 3 habitaciones?\n",
    "\n",
    "15.De las casas con más de 300 metros cuadrados de salón, ¿cuántas tienen más de 2 baños?\n"
   ]
  },
  {
   "cell_type": "code",
   "execution_count": 3,
   "id": "0f1d1236",
   "metadata": {},
   "outputs": [
    {
     "name": "stdout",
     "output_type": "stream",
     "text": [
      "Requirement already satisfied: pandas in c:\\users\\user lenovo\\anaconda3\\lib\\site-packages (1.3.4)\n",
      "Requirement already satisfied: numpy>=1.17.3 in c:\\users\\user lenovo\\anaconda3\\lib\\site-packages (from pandas) (1.20.3)\n",
      "Requirement already satisfied: pytz>=2017.3 in c:\\users\\user lenovo\\anaconda3\\lib\\site-packages (from pandas) (2021.3)\n",
      "Requirement already satisfied: python-dateutil>=2.7.3 in c:\\users\\user lenovo\\anaconda3\\lib\\site-packages (from pandas) (2.8.2)\n",
      "Requirement already satisfied: six>=1.5 in c:\\users\\user lenovo\\anaconda3\\lib\\site-packages (from python-dateutil>=2.7.3->pandas) (1.16.0)\n",
      "Note: you may need to restart the kernel to use updated packages.\n"
     ]
    }
   ],
   "source": [
    "pip install pandas "
   ]
  },
  {
   "cell_type": "code",
   "execution_count": 6,
   "id": "4dafe022",
   "metadata": {},
   "outputs": [],
   "source": [
    "import pandas as pd"
   ]
  },
  {
   "cell_type": "code",
   "execution_count": 13,
   "id": "a1eb1bb5",
   "metadata": {},
   "outputs": [],
   "source": [
    "Data = pd.read_csv('../Data/kc_house_data.csv')"
   ]
  },
  {
   "cell_type": "code",
   "execution_count": 14,
   "id": "18ec0cc3",
   "metadata": {},
   "outputs": [
    {
     "data": {
      "text/plain": [
       "Index(['id', 'date', 'price', 'bedrooms', 'bathrooms', 'sqft_living',\n",
       "       'sqft_lot', 'floors', 'waterfront', 'view', 'condition', 'grade',\n",
       "       'sqft_above', 'sqft_basement', 'yr_built', 'yr_renovated', 'zipcode',\n",
       "       'lat', 'long', 'sqft_living15', 'sqft_lot15'],\n",
       "      dtype='object')"
      ]
     },
     "execution_count": 14,
     "metadata": {},
     "output_type": "execute_result"
    }
   ],
   "source": [
    "data.columns "
   ]
  },
  {
   "cell_type": "code",
   "execution_count": 15,
   "id": "b0491e9d",
   "metadata": {},
   "outputs": [
    {
     "data": {
      "text/plain": [
       "(21613, 21)"
      ]
     },
     "execution_count": 15,
     "metadata": {},
     "output_type": "execute_result"
    }
   ],
   "source": [
    "Data.shape"
   ]
  },
  {
   "cell_type": "code",
   "execution_count": 16,
   "id": "4a3612ba",
   "metadata": {},
   "outputs": [
    {
     "data": {
      "text/plain": [
       "id                 int64\n",
       "date              object\n",
       "price            float64\n",
       "bedrooms           int64\n",
       "bathrooms        float64\n",
       "sqft_living        int64\n",
       "sqft_lot           int64\n",
       "floors           float64\n",
       "waterfront         int64\n",
       "view               int64\n",
       "condition          int64\n",
       "grade              int64\n",
       "sqft_above         int64\n",
       "sqft_basement      int64\n",
       "yr_built           int64\n",
       "yr_renovated       int64\n",
       "zipcode            int64\n",
       "lat              float64\n",
       "long             float64\n",
       "sqft_living15      int64\n",
       "sqft_lot15         int64\n",
       "dtype: object"
      ]
     },
     "execution_count": 16,
     "metadata": {},
     "output_type": "execute_result"
    }
   ],
   "source": [
    "Data.dtypes"
   ]
  },
  {
   "cell_type": "code",
   "execution_count": 17,
   "id": "bb5922c9",
   "metadata": {},
   "outputs": [
    {
     "data": {
      "text/html": [
       "<div>\n",
       "<style scoped>\n",
       "    .dataframe tbody tr th:only-of-type {\n",
       "        vertical-align: middle;\n",
       "    }\n",
       "\n",
       "    .dataframe tbody tr th {\n",
       "        vertical-align: top;\n",
       "    }\n",
       "\n",
       "    .dataframe thead th {\n",
       "        text-align: right;\n",
       "    }\n",
       "</style>\n",
       "<table border=\"1\" class=\"dataframe\">\n",
       "  <thead>\n",
       "    <tr style=\"text-align: right;\">\n",
       "      <th></th>\n",
       "      <th>sqft_basement</th>\n",
       "      <th>zipcode</th>\n",
       "    </tr>\n",
       "  </thead>\n",
       "  <tbody>\n",
       "    <tr>\n",
       "      <th>0</th>\n",
       "      <td>0</td>\n",
       "      <td>98178</td>\n",
       "    </tr>\n",
       "    <tr>\n",
       "      <th>1</th>\n",
       "      <td>400</td>\n",
       "      <td>98125</td>\n",
       "    </tr>\n",
       "    <tr>\n",
       "      <th>2</th>\n",
       "      <td>0</td>\n",
       "      <td>98028</td>\n",
       "    </tr>\n",
       "    <tr>\n",
       "      <th>3</th>\n",
       "      <td>910</td>\n",
       "      <td>98136</td>\n",
       "    </tr>\n",
       "    <tr>\n",
       "      <th>4</th>\n",
       "      <td>0</td>\n",
       "      <td>98074</td>\n",
       "    </tr>\n",
       "    <tr>\n",
       "      <th>...</th>\n",
       "      <td>...</td>\n",
       "      <td>...</td>\n",
       "    </tr>\n",
       "    <tr>\n",
       "      <th>21608</th>\n",
       "      <td>0</td>\n",
       "      <td>98103</td>\n",
       "    </tr>\n",
       "    <tr>\n",
       "      <th>21609</th>\n",
       "      <td>0</td>\n",
       "      <td>98146</td>\n",
       "    </tr>\n",
       "    <tr>\n",
       "      <th>21610</th>\n",
       "      <td>0</td>\n",
       "      <td>98144</td>\n",
       "    </tr>\n",
       "    <tr>\n",
       "      <th>21611</th>\n",
       "      <td>0</td>\n",
       "      <td>98027</td>\n",
       "    </tr>\n",
       "    <tr>\n",
       "      <th>21612</th>\n",
       "      <td>0</td>\n",
       "      <td>98144</td>\n",
       "    </tr>\n",
       "  </tbody>\n",
       "</table>\n",
       "<p>21613 rows × 2 columns</p>\n",
       "</div>"
      ],
      "text/plain": [
       "       sqft_basement  zipcode\n",
       "0                  0    98178\n",
       "1                400    98125\n",
       "2                  0    98028\n",
       "3                910    98136\n",
       "4                  0    98074\n",
       "...              ...      ...\n",
       "21608              0    98103\n",
       "21609              0    98146\n",
       "21610              0    98144\n",
       "21611              0    98027\n",
       "21612              0    98144\n",
       "\n",
       "[21613 rows x 2 columns]"
      ]
     },
     "execution_count": 17,
     "metadata": {},
     "output_type": "execute_result"
    }
   ],
   "source": [
    "Data[['sqft_basement','zipcode']]"
   ]
  },
  {
   "cell_type": "code",
   "execution_count": 18,
   "id": "b46092c6",
   "metadata": {},
   "outputs": [
    {
     "data": {
      "text/plain": [
       "Index(['id', 'date', 'price', 'bedrooms', 'bathrooms', 'sqft_living',\n",
       "       'sqft_lot', 'floors', 'waterfront', 'view', 'condition', 'grade',\n",
       "       'sqft_above', 'sqft_basement', 'yr_built', 'yr_renovated', 'zipcode',\n",
       "       'lat', 'long', 'sqft_living15', 'sqft_lot15'],\n",
       "      dtype='object')"
      ]
     },
     "execution_count": 18,
     "metadata": {},
     "output_type": "execute_result"
    }
   ],
   "source": [
    "Data.columns"
   ]
  },
  {
   "cell_type": "code",
   "execution_count": 19,
   "id": "920049c7",
   "metadata": {},
   "outputs": [
    {
     "data": {
      "text/plain": [
       "(290, 13540)"
      ]
     },
     "execution_count": 19,
     "metadata": {},
     "output_type": "execute_result"
    }
   ],
   "source": [
    "(min(Data['sqft_living']),max(Data['sqft_living']))"
   ]
  },
  {
   "cell_type": "markdown",
   "id": "975b5cb7",
   "metadata": {},
   "source": [
    "## 1. ¿Cuántas casas hay disponibles para comprar?"
   ]
  },
  {
   "cell_type": "code",
   "execution_count": 20,
   "id": "3cdf948b",
   "metadata": {},
   "outputs": [
    {
     "name": "stdout",
     "output_type": "stream",
     "text": [
      "Están disponibles 21436 casas\n"
     ]
    }
   ],
   "source": [
    "print('Están disponibles {} casas'.format(Data['id'].nunique()))"
   ]
  },
  {
   "cell_type": "markdown",
   "id": "f979c2fd",
   "metadata": {},
   "source": [
    "## 2. ¿Cuántos atributos tienen las casas?"
   ]
  },
  {
   "cell_type": "code",
   "execution_count": 21,
   "id": "572c1307",
   "metadata": {},
   "outputs": [
    {
     "name": "stdout",
     "output_type": "stream",
     "text": [
      "Los inmuebles tienen 19 atributos\n"
     ]
    }
   ],
   "source": [
    "print('Los inmuebles tienen {} atributos'.format(len(Data.columns)-2))"
   ]
  },
  {
   "cell_type": "markdown",
   "id": "44883ec3",
   "metadata": {},
   "source": [
    "## 3. ¿Cuáles son los atributos de las casas?"
   ]
  },
  {
   "cell_type": "code",
   "execution_count": 22,
   "id": "66bbf179",
   "metadata": {},
   "outputs": [
    {
     "name": "stdout",
     "output_type": "stream",
     "text": [
      "Los atributos de las casas son: ['price', 'bedrooms', 'bathrooms', 'sqft_living', 'sqft_lot', 'floors', 'waterfront', 'view', 'condition', 'grade', 'sqft_above', 'sqft_basement', 'yr_built', 'yr_renovated', 'zipcode', 'lat', 'long', 'sqft_living15', 'sqft_lot15']\n"
     ]
    }
   ],
   "source": [
    "aux = data.columns.tolist()\n",
    "aux.remove('id')\n",
    "aux.remove('date')\n",
    "print('Los atributos de las casas son: {}'.format(aux))"
   ]
  },
  {
   "cell_type": "markdown",
   "id": "d2fc1ab5",
   "metadata": {},
   "source": [
    "## 4. ¿Cuál es la casa más cara (casa con mayor valor de venta)?\n"
   ]
  },
  {
   "cell_type": "code",
   "execution_count": 23,
   "id": "30709c51",
   "metadata": {},
   "outputs": [
    {
     "data": {
      "text/html": [
       "<div>\n",
       "<style scoped>\n",
       "    .dataframe tbody tr th:only-of-type {\n",
       "        vertical-align: middle;\n",
       "    }\n",
       "\n",
       "    .dataframe tbody tr th {\n",
       "        vertical-align: top;\n",
       "    }\n",
       "\n",
       "    .dataframe thead th {\n",
       "        text-align: right;\n",
       "    }\n",
       "</style>\n",
       "<table border=\"1\" class=\"dataframe\">\n",
       "  <thead>\n",
       "    <tr style=\"text-align: right;\">\n",
       "      <th></th>\n",
       "      <th>7252</th>\n",
       "    </tr>\n",
       "  </thead>\n",
       "  <tbody>\n",
       "    <tr>\n",
       "      <th>id</th>\n",
       "      <td>6762700020</td>\n",
       "    </tr>\n",
       "    <tr>\n",
       "      <th>date</th>\n",
       "      <td>20141013T000000</td>\n",
       "    </tr>\n",
       "    <tr>\n",
       "      <th>price</th>\n",
       "      <td>7700000.0</td>\n",
       "    </tr>\n",
       "    <tr>\n",
       "      <th>bedrooms</th>\n",
       "      <td>6</td>\n",
       "    </tr>\n",
       "    <tr>\n",
       "      <th>bathrooms</th>\n",
       "      <td>8.0</td>\n",
       "    </tr>\n",
       "    <tr>\n",
       "      <th>sqft_living</th>\n",
       "      <td>12050</td>\n",
       "    </tr>\n",
       "    <tr>\n",
       "      <th>sqft_lot</th>\n",
       "      <td>27600</td>\n",
       "    </tr>\n",
       "    <tr>\n",
       "      <th>floors</th>\n",
       "      <td>2.5</td>\n",
       "    </tr>\n",
       "    <tr>\n",
       "      <th>waterfront</th>\n",
       "      <td>0</td>\n",
       "    </tr>\n",
       "    <tr>\n",
       "      <th>view</th>\n",
       "      <td>3</td>\n",
       "    </tr>\n",
       "    <tr>\n",
       "      <th>condition</th>\n",
       "      <td>4</td>\n",
       "    </tr>\n",
       "    <tr>\n",
       "      <th>grade</th>\n",
       "      <td>13</td>\n",
       "    </tr>\n",
       "    <tr>\n",
       "      <th>sqft_above</th>\n",
       "      <td>8570</td>\n",
       "    </tr>\n",
       "    <tr>\n",
       "      <th>sqft_basement</th>\n",
       "      <td>3480</td>\n",
       "    </tr>\n",
       "    <tr>\n",
       "      <th>yr_built</th>\n",
       "      <td>1910</td>\n",
       "    </tr>\n",
       "    <tr>\n",
       "      <th>yr_renovated</th>\n",
       "      <td>1987</td>\n",
       "    </tr>\n",
       "    <tr>\n",
       "      <th>zipcode</th>\n",
       "      <td>98102</td>\n",
       "    </tr>\n",
       "    <tr>\n",
       "      <th>lat</th>\n",
       "      <td>47.6298</td>\n",
       "    </tr>\n",
       "    <tr>\n",
       "      <th>long</th>\n",
       "      <td>-122.323</td>\n",
       "    </tr>\n",
       "    <tr>\n",
       "      <th>sqft_living15</th>\n",
       "      <td>3940</td>\n",
       "    </tr>\n",
       "    <tr>\n",
       "      <th>sqft_lot15</th>\n",
       "      <td>8800</td>\n",
       "    </tr>\n",
       "  </tbody>\n",
       "</table>\n",
       "</div>"
      ],
      "text/plain": [
       "                          7252\n",
       "id                  6762700020\n",
       "date           20141013T000000\n",
       "price                7700000.0\n",
       "bedrooms                     6\n",
       "bathrooms                  8.0\n",
       "sqft_living              12050\n",
       "sqft_lot                 27600\n",
       "floors                     2.5\n",
       "waterfront                   0\n",
       "view                         3\n",
       "condition                    4\n",
       "grade                       13\n",
       "sqft_above                8570\n",
       "sqft_basement             3480\n",
       "yr_built                  1910\n",
       "yr_renovated              1987\n",
       "zipcode                  98102\n",
       "lat                    47.6298\n",
       "long                  -122.323\n",
       "sqft_living15             3940\n",
       "sqft_lot15                8800"
      ]
     },
     "execution_count": 23,
     "metadata": {},
     "output_type": "execute_result"
    }
   ],
   "source": [
    "Data[Data['price']==Data['price'].max()].T"
   ]
  },
  {
   "cell_type": "markdown",
   "id": "cff3ea92",
   "metadata": {},
   "source": [
    "## 5. ¿Qué casa tiene más cuartos?"
   ]
  },
  {
   "cell_type": "code",
   "execution_count": 24,
   "id": "7fa8f46a",
   "metadata": {},
   "outputs": [
    {
     "data": {
      "text/html": [
       "<div>\n",
       "<style scoped>\n",
       "    .dataframe tbody tr th:only-of-type {\n",
       "        vertical-align: middle;\n",
       "    }\n",
       "\n",
       "    .dataframe tbody tr th {\n",
       "        vertical-align: top;\n",
       "    }\n",
       "\n",
       "    .dataframe thead th {\n",
       "        text-align: right;\n",
       "    }\n",
       "</style>\n",
       "<table border=\"1\" class=\"dataframe\">\n",
       "  <thead>\n",
       "    <tr style=\"text-align: right;\">\n",
       "      <th></th>\n",
       "      <th>15870</th>\n",
       "    </tr>\n",
       "  </thead>\n",
       "  <tbody>\n",
       "    <tr>\n",
       "      <th>id</th>\n",
       "      <td>2402100895</td>\n",
       "    </tr>\n",
       "    <tr>\n",
       "      <th>date</th>\n",
       "      <td>20140625T000000</td>\n",
       "    </tr>\n",
       "    <tr>\n",
       "      <th>price</th>\n",
       "      <td>640000.0</td>\n",
       "    </tr>\n",
       "    <tr>\n",
       "      <th>bedrooms</th>\n",
       "      <td>33</td>\n",
       "    </tr>\n",
       "    <tr>\n",
       "      <th>bathrooms</th>\n",
       "      <td>1.75</td>\n",
       "    </tr>\n",
       "    <tr>\n",
       "      <th>sqft_living</th>\n",
       "      <td>1620</td>\n",
       "    </tr>\n",
       "    <tr>\n",
       "      <th>sqft_lot</th>\n",
       "      <td>6000</td>\n",
       "    </tr>\n",
       "    <tr>\n",
       "      <th>floors</th>\n",
       "      <td>1.0</td>\n",
       "    </tr>\n",
       "    <tr>\n",
       "      <th>waterfront</th>\n",
       "      <td>0</td>\n",
       "    </tr>\n",
       "    <tr>\n",
       "      <th>view</th>\n",
       "      <td>0</td>\n",
       "    </tr>\n",
       "    <tr>\n",
       "      <th>condition</th>\n",
       "      <td>5</td>\n",
       "    </tr>\n",
       "    <tr>\n",
       "      <th>grade</th>\n",
       "      <td>7</td>\n",
       "    </tr>\n",
       "    <tr>\n",
       "      <th>sqft_above</th>\n",
       "      <td>1040</td>\n",
       "    </tr>\n",
       "    <tr>\n",
       "      <th>sqft_basement</th>\n",
       "      <td>580</td>\n",
       "    </tr>\n",
       "    <tr>\n",
       "      <th>yr_built</th>\n",
       "      <td>1947</td>\n",
       "    </tr>\n",
       "    <tr>\n",
       "      <th>yr_renovated</th>\n",
       "      <td>0</td>\n",
       "    </tr>\n",
       "    <tr>\n",
       "      <th>zipcode</th>\n",
       "      <td>98103</td>\n",
       "    </tr>\n",
       "    <tr>\n",
       "      <th>lat</th>\n",
       "      <td>47.6878</td>\n",
       "    </tr>\n",
       "    <tr>\n",
       "      <th>long</th>\n",
       "      <td>-122.331</td>\n",
       "    </tr>\n",
       "    <tr>\n",
       "      <th>sqft_living15</th>\n",
       "      <td>1330</td>\n",
       "    </tr>\n",
       "    <tr>\n",
       "      <th>sqft_lot15</th>\n",
       "      <td>4700</td>\n",
       "    </tr>\n",
       "  </tbody>\n",
       "</table>\n",
       "</div>"
      ],
      "text/plain": [
       "                         15870\n",
       "id                  2402100895\n",
       "date           20140625T000000\n",
       "price                 640000.0\n",
       "bedrooms                    33\n",
       "bathrooms                 1.75\n",
       "sqft_living               1620\n",
       "sqft_lot                  6000\n",
       "floors                     1.0\n",
       "waterfront                   0\n",
       "view                         0\n",
       "condition                    5\n",
       "grade                        7\n",
       "sqft_above                1040\n",
       "sqft_basement              580\n",
       "yr_built                  1947\n",
       "yr_renovated                 0\n",
       "zipcode                  98103\n",
       "lat                    47.6878\n",
       "long                  -122.331\n",
       "sqft_living15             1330\n",
       "sqft_lot15                4700"
      ]
     },
     "execution_count": 24,
     "metadata": {},
     "output_type": "execute_result"
    }
   ],
   "source": [
    "Data[Data['bedrooms'] == Data['bedrooms'].max()].T"
   ]
  },
  {
   "cell_type": "markdown",
   "id": "e40079d5",
   "metadata": {},
   "source": [
    "## 6. ¿Cuál es la suma total de habitaciones en el conjunto de datos?\n"
   ]
  },
  {
   "cell_type": "code",
   "execution_count": 26,
   "id": "2106ecde",
   "metadata": {},
   "outputs": [
    {
     "name": "stdout",
     "output_type": "stream",
     "text": [
      "En total, hay 72854 habitaciones a la venta\n"
     ]
    }
   ],
   "source": [
    "print('En total, hay {} habitaciones a la venta'.format(data['bedrooms'].sum()))"
   ]
  },
  {
   "cell_type": "markdown",
   "id": "59f41555",
   "metadata": {},
   "source": [
    "## 7. ¿Cuántas casas tienen 2 baños?"
   ]
  },
  {
   "cell_type": "code",
   "execution_count": 27,
   "id": "29ef93b1",
   "metadata": {},
   "outputs": [
    {
     "name": "stdout",
     "output_type": "stream",
     "text": [
      "Hay 1930 con únicamente dos baños\n"
     ]
    }
   ],
   "source": [
    "print('Hay {} con únicamente dos baños'.format(data[data['bathrooms'] == 2].shape[0]))"
   ]
  },
  {
   "cell_type": "markdown",
   "id": "3be54451",
   "metadata": {},
   "source": [
    "## 8. ¿Cuál es el precio promedio de todas las casas en el conjunto de datos?"
   ]
  },
  {
   "cell_type": "code",
   "execution_count": 28,
   "id": "8f8911fe",
   "metadata": {},
   "outputs": [
    {
     "name": "stdout",
     "output_type": "stream",
     "text": [
      "El precio promedio de todas las casas del conjunto de datos es de 540088.1417665294\n"
     ]
    }
   ],
   "source": [
    "print('El precio promedio de todas las casas del conjunto de datos es de {}'.format(data['price'].mean()))"
   ]
  },
  {
   "cell_type": "code",
   "execution_count": 29,
   "id": "5080b664",
   "metadata": {},
   "outputs": [
    {
     "name": "stdout",
     "output_type": "stream",
     "text": [
      "En total, se movieron 11672925008.0 dólares en el mercado inmobiliario de King Count entre 2014 y 2015\n"
     ]
    }
   ],
   "source": [
    "print('En total, se movieron {} dólares en el mercado inmobiliario de King Count entre 2014 y 2015'.format(data['price'].sum()))"
   ]
  },
  {
   "cell_type": "markdown",
   "id": "3efd8260",
   "metadata": {},
   "source": [
    "## 9. ¿Cuál es el precio medio de las viviendas de 2 baños?"
   ]
  },
  {
   "cell_type": "code",
   "execution_count": 30,
   "id": "678accca",
   "metadata": {},
   "outputs": [
    {
     "data": {
      "text/plain": [
       "457889.7186528497"
      ]
     },
     "execution_count": 30,
     "metadata": {},
     "output_type": "execute_result"
    }
   ],
   "source": [
    "data[data['bathrooms'] ==2]['price'].mean()"
   ]
  },
  {
   "cell_type": "code",
   "execution_count": 31,
   "id": "5bf76d8c",
   "metadata": {},
   "outputs": [
    {
     "name": "stdout",
     "output_type": "stream",
     "text": [
      "El precio medio de las viviendas de dos baños es de 457889.72\n"
     ]
    }
   ],
   "source": [
    "print('El precio medio de las viviendas de dos baños es de {}'.format(round(data.loc[data['bathrooms'] ==2,'price'].mean(),2)))"
   ]
  },
  {
   "cell_type": "markdown",
   "id": "f545ce56",
   "metadata": {},
   "source": [
    "## 10. ¿Cuál es el precio mínimo para viviendas de 3 dormitorios?"
   ]
  },
  {
   "cell_type": "code",
   "execution_count": 32,
   "id": "09aebfed",
   "metadata": {},
   "outputs": [
    {
     "name": "stdout",
     "output_type": "stream",
     "text": [
      "82000.0 es el precio mínimo de una vivienda con tres habitaciones\n"
     ]
    }
   ],
   "source": [
    "print('{} es el precio mínimo de una vivienda con tres habitaciones'.format(round(data.loc[data['bedrooms']==3, 'price'].min(),2)))"
   ]
  },
  {
   "cell_type": "markdown",
   "id": "9556fe3d",
   "metadata": {},
   "source": [
    "## 11. ¿Cuántas casas tienen más de 300 metros cuadrados en la sala?"
   ]
  },
  {
   "cell_type": "code",
   "execution_count": 33,
   "id": "3efab43c",
   "metadata": {},
   "outputs": [
    {
     "name": "stdout",
     "output_type": "stream",
     "text": [
      "Hay 21612 casa con más de 300 metros cuadrados en la sala\n"
     ]
    }
   ],
   "source": [
    "print('Hay {} casa con más de 300 metros cuadrados en la sala'.format(data[data['sqft_living']>300].shape[0]))"
   ]
  },
  {
   "cell_type": "markdown",
   "id": "82ee9a2f",
   "metadata": {},
   "source": [
    "## 12. ¿Cuántas casas tienen más de 2 plantas?"
   ]
  },
  {
   "cell_type": "code",
   "execution_count": 34,
   "id": "853f011b",
   "metadata": {},
   "outputs": [
    {
     "name": "stdout",
     "output_type": "stream",
     "text": [
      "Hay 782 casas con más de dos pisos\n"
     ]
    }
   ],
   "source": [
    "resultado = data[data['floors']>2].shape[0]\n",
    "print('Hay {} casas con más de dos pisos'.format(resultado))"
   ]
  },
  {
   "cell_type": "markdown",
   "id": "66d52720",
   "metadata": {},
   "source": [
    "## 13. ¿Cuántas casas tienen vista al mar?"
   ]
  },
  {
   "cell_type": "code",
   "execution_count": 35,
   "id": "fa262c0c",
   "metadata": {},
   "outputs": [
    {
     "name": "stdout",
     "output_type": "stream",
     "text": [
      "Hay 163 casas con vista al agua\n"
     ]
    }
   ],
   "source": [
    "resultado = data[data['waterfront']== 1].shape[0]\n",
    "print('Hay {} casas con vista al agua'.format(resultado))"
   ]
  },
  {
   "cell_type": "code",
   "execution_count": 36,
   "id": "eb39ca38",
   "metadata": {},
   "outputs": [
    {
     "data": {
      "text/plain": [
       "0        False\n",
       "1        False\n",
       "2        False\n",
       "3        False\n",
       "4        False\n",
       "         ...  \n",
       "21608    False\n",
       "21609    False\n",
       "21610    False\n",
       "21611    False\n",
       "21612    False\n",
       "Name: waterfront, Length: 21613, dtype: bool"
      ]
     },
     "execution_count": 36,
     "metadata": {},
     "output_type": "execute_result"
    }
   ],
   "source": [
    "data['waterfront'] == 1"
   ]
  },
  {
   "cell_type": "markdown",
   "id": "0e6a5a90",
   "metadata": {},
   "source": [
    "## 14. De las casas con vistas al mar, ¿cuántas tienen 3 habitaciones?"
   ]
  },
  {
   "cell_type": "code",
   "execution_count": 37,
   "id": "b948008d",
   "metadata": {},
   "outputs": [
    {
     "name": "stdout",
     "output_type": "stream",
     "text": [
      "El valor de la sentencia es: False\n",
      "El valor de la sentencia es: True\n",
      "El valor de la sentencia es: True\n",
      "El valor de la sentencia es: False\n"
     ]
    }
   ],
   "source": [
    "T = True\n",
    "F = False\n",
    "# original\n",
    "print('El valor de la sentencia es: {}'.format(F))\n",
    "#  negación \n",
    "res1 = not F\n",
    "print('El valor de la sentencia es: {}'.format(res1))\n",
    "# conjuncion (y)\n",
    "res2 = T & T \n",
    "print('El valor de la sentencia es: {}'.format(res2))\n",
    "# disyunción (o)\n",
    "res3 = F | F\n",
    "print('El valor de la sentencia es: {}'.format(res3))"
   ]
  },
  {
   "cell_type": "code",
   "execution_count": 38,
   "id": "deea432d",
   "metadata": {},
   "outputs": [
    {
     "data": {
      "text/html": [
       "<div>\n",
       "<style scoped>\n",
       "    .dataframe tbody tr th:only-of-type {\n",
       "        vertical-align: middle;\n",
       "    }\n",
       "\n",
       "    .dataframe tbody tr th {\n",
       "        vertical-align: top;\n",
       "    }\n",
       "\n",
       "    .dataframe thead th {\n",
       "        text-align: right;\n",
       "    }\n",
       "</style>\n",
       "<table border=\"1\" class=\"dataframe\">\n",
       "  <thead>\n",
       "    <tr style=\"text-align: right;\">\n",
       "      <th></th>\n",
       "      <th>p</th>\n",
       "      <th>q</th>\n",
       "      <th>~p</th>\n",
       "      <th>~q</th>\n",
       "      <th>p y q</th>\n",
       "      <th>p o q</th>\n",
       "      <th>p -&gt; q</th>\n",
       "    </tr>\n",
       "  </thead>\n",
       "  <tbody>\n",
       "    <tr>\n",
       "      <th>0</th>\n",
       "      <td>True</td>\n",
       "      <td>True</td>\n",
       "      <td>False</td>\n",
       "      <td>False</td>\n",
       "      <td>True</td>\n",
       "      <td>True</td>\n",
       "      <td>True</td>\n",
       "    </tr>\n",
       "    <tr>\n",
       "      <th>1</th>\n",
       "      <td>True</td>\n",
       "      <td>False</td>\n",
       "      <td>False</td>\n",
       "      <td>True</td>\n",
       "      <td>False</td>\n",
       "      <td>True</td>\n",
       "      <td>False</td>\n",
       "    </tr>\n",
       "    <tr>\n",
       "      <th>2</th>\n",
       "      <td>False</td>\n",
       "      <td>True</td>\n",
       "      <td>True</td>\n",
       "      <td>False</td>\n",
       "      <td>False</td>\n",
       "      <td>True</td>\n",
       "      <td>True</td>\n",
       "    </tr>\n",
       "    <tr>\n",
       "      <th>3</th>\n",
       "      <td>False</td>\n",
       "      <td>False</td>\n",
       "      <td>True</td>\n",
       "      <td>True</td>\n",
       "      <td>False</td>\n",
       "      <td>False</td>\n",
       "      <td>True</td>\n",
       "    </tr>\n",
       "  </tbody>\n",
       "</table>\n",
       "</div>"
      ],
      "text/plain": [
       "       p      q     ~p     ~q  p y q  p o q  p -> q\n",
       "0   True   True  False  False   True   True    True\n",
       "1   True  False  False   True  False   True   False\n",
       "2  False   True   True  False  False   True    True\n",
       "3  False  False   True   True  False  False    True"
      ]
     },
     "execution_count": 38,
     "metadata": {},
     "output_type": "execute_result"
    }
   ],
   "source": [
    "p = [True, True, False, False]\n",
    "q = [True, False, True, False]\n",
    "\n",
    "#create new df \n",
    "df = pd.DataFrame({'p':p,'q':q})\n",
    "df\n",
    "\n",
    "# # Crear columna de la negación de p\n",
    "df['~p'] = ~ df['p']\n",
    "df['~q'] = ~ df['q']\n",
    "df['p y q'] = df['p'] & df['q']\n",
    "df['p o q'] = df['p'] | df['q']\n",
    "df['p -> q'] = df['~p'] | df['q']\n",
    "\n",
    "df"
   ]
  },
  {
   "cell_type": "code",
   "execution_count": 39,
   "id": "61fc28cd",
   "metadata": {},
   "outputs": [
    {
     "name": "stdout",
     "output_type": "stream",
     "text": [
      "Hay 64 casas con vista a la mar y con tres habitaciones\n"
     ]
    }
   ],
   "source": [
    "resultado = data[(data['waterfront'] ==1) & (data['bedrooms'] ==3 )].shape[0]\n",
    "print('Hay {} casas con vista a la mar y con tres habitaciones'.format(resultado))"
   ]
  },
  {
   "cell_type": "markdown",
   "id": "53cb64d0",
   "metadata": {},
   "source": [
    "## 15. De las casas con más de 300 pies cuadrados de sala, ¿cuántas tienen más de 2 baños?"
   ]
  },
  {
   "cell_type": "code",
   "execution_count": 40,
   "id": "1b5d5e78",
   "metadata": {},
   "outputs": [
    {
     "name": "stdout",
     "output_type": "stream",
     "text": [
      "Hay 11242 casas con salas de más de 300 pies cuadradaos y más de dos baños\n"
     ]
    }
   ],
   "source": [
    "resultado = data[(data['sqft_living']>300) & (data['bathrooms']>2)].shape[0]\n",
    "print('Hay {} casas con salas de más de 300 pies cuadradaos y más de dos baños'.format(resultado))"
   ]
  },
  {
   "cell_type": "markdown",
   "id": "2311bc79",
   "metadata": {},
   "source": [
    "## Cuántas casas frente al agua con tres habitaciones y más de dos baños"
   ]
  },
  {
   "cell_type": "code",
   "execution_count": 41,
   "id": "2ce49341",
   "metadata": {},
   "outputs": [
    {
     "name": "stdout",
     "output_type": "stream",
     "text": [
      "Hay 11242 casa frente al agua con tres habitaciones y más de dos baños\n"
     ]
    }
   ],
   "source": [
    "restultado = data[(data['waterfront'] == 1)&(data['bedrooms'] ==3)&(data['bathrooms']>2)].shape[0]\n",
    "print('Hay {} casa frente al agua con tres habitaciones y más de dos baños'.format(resultado))"
   ]
  },
  {
   "cell_type": "code",
   "execution_count": null,
   "id": "98402d1a",
   "metadata": {},
   "outputs": [],
   "source": []
  }
 ],
 "metadata": {
  "kernelspec": {
   "display_name": "Python 3 (ipykernel)",
   "language": "python",
   "name": "python3"
  },
  "language_info": {
   "codemirror_mode": {
    "name": "ipython",
    "version": 3
   },
   "file_extension": ".py",
   "mimetype": "text/x-python",
   "name": "python",
   "nbconvert_exporter": "python",
   "pygments_lexer": "ipython3",
   "version": "3.9.7"
  }
 },
 "nbformat": 4,
 "nbformat_minor": 5
}
